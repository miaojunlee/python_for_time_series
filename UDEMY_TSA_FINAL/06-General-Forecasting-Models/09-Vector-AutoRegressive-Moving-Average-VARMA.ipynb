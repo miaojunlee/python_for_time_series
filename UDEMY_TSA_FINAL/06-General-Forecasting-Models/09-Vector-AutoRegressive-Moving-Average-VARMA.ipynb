{
 "cells": [
  {
   "cell_type": "markdown",
   "metadata": {},
   "source": [
    "___\n",
    "\n",
    "<a href='http://www.pieriandata.com'><img src='../Pierian_Data_Logo.png'/></a>\n",
    "___\n",
    "<center><em>Copyright Pierian Data</em></center>\n",
    "<center><em>For more information, visit us at <a href='http://www.pieriandata.com'>www.pieriandata.com</a></em></center>"
   ]
  },
  {
   "cell_type": "markdown",
   "metadata": {},
   "source": [
    "# VARMA(p,q)\n",
    "## Vector Autoregressive Moving Average\n",
    "This lesson picks up where VAR(p) left off.\n",
    "\n",
    "Recall that the system of equations for a 2-dimensional VAR(1) model is:\n",
    "\n",
    "&nbsp;&nbsp;&nbsp;&nbsp;$y_{1,t} = c_1 + \\phi_{11,1}y_{1,t-1} + \\phi_{12,1}y_{2,t-1} + \\varepsilon_{1,t}$<br>\n",
    "&nbsp;&nbsp;&nbsp;&nbsp;$y_{2,t} = c_2 + \\phi_{21,1}y_{1,t-1} + \\phi_{22,1}y_{2,t-1} + \\varepsilon_{2,t}$\n",
    "\n",
    "where the coefficient $\\phi_{ii,l}$ captures the influence of the $l$th lag of variable $y_i$ on itself,<br>\n",
    "the coefficient $\\phi_{ij,l}$ captures the influence of the $l$th lag of variable $y_j$ on $y_i$.<br>\n",
    "Most importantly, $\\varepsilon_{1,t}$ and $\\varepsilon_{2,t}$ are white noise processes that may be correlated.<br>\n",
    "\n",
    "In a <strong>VARMA(p,q)</strong> model we give the error terms $\\varepsilon_t$ a moving average representation of order $q$.\n",
    "\n",
    "\n",
    "### Formulation\n",
    "We've seen that an autoregressive moving average ARMA(p,q) model is described by the following:\n",
    "\n",
    "&nbsp;&nbsp;&nbsp;&nbsp; $y_{t} = c + \\phi_{1}y_{t-1} + \\phi_{2}y_{t-2} + \\dots + \\phi_{p}y_{t-p} + \\theta_{1}\\varepsilon_{t-1} + \\theta_{2}\\varepsilon_{t-2} + \\dots + \\theta_{q}\\varepsilon_{t-q} + \\varepsilon_{t}$"
   ]
  },
  {
   "cell_type": "markdown",
   "metadata": {},
   "source": [
    "A $K$-dimensional VARMA model of order $(p,q)$ considers each variable $y_K$ in the system.<br>\n",
    "\n",
    "For example, the system of equations for a 2-dimensional VARMA(1,1) model is:\n",
    "\n",
    "&nbsp;&nbsp;&nbsp;&nbsp;$y_{1,t} = c_1 + \\phi_{11,1}y_{1,t-1} + \\phi_{12,1}y_{2,t-1} + \\theta_{11,1}\\varepsilon_{1,t-1} + \\theta_{12,1}\\varepsilon_{2,t-1} + \\varepsilon_{1,t}$<br>\n",
    "&nbsp;&nbsp;&nbsp;&nbsp;$y_{2,t} = c_2 + \\phi_{21,1}y_{1,t-1} + \\phi_{22,1}y_{2,t-1} + \\theta_{21,1}\\varepsilon_{1,t-1} + \\theta_{22,1}\\varepsilon_{2,t-1} + \\varepsilon_{2,t}$\n",
    "\n",
    "where the coefficient $\\theta_{ii,l}$ captures the influence of the $l$th lag of error $\\varepsilon_i$ on itself,<br>\n",
    "the coefficient $\\theta_{ij,l}$ captures the influence of the $l$th lag of error $\\varepsilon_j$ on $\\varepsilon_i$,<br>\n",
    "and $\\varepsilon_{1,t}$ and $\\varepsilon_{2,t}$ are residual white noise.<br>\n",
    "\n",
    "\n",
    "The general steps involved in building a VARMA model are:\n",
    "* Examine the data\n",
    "* Visualize the data\n",
    "* Test for stationarity\n",
    "* If necessary, transform the data to make it stationary\n",
    "* Select the appropriate <em>p</em> and <em>q</em> orders\n",
    "* Instantiate the model and fit it to a training set\n",
    "* If necessary, invert the earlier transformation\n",
    "* Evaluate model predictions against a known test set\n",
    "* Forecast the future"
   ]
  },
  {
   "cell_type": "markdown",
   "metadata": {
    "collapsed": true
   },
   "source": [
    "<div class=\"alert alert-info\"><h3>Related Functions:</h3>\n",
    "<tt><strong>\n",
    "<a href='https://www.statsmodels.org/stable/generated/statsmodels.tsa.statespace.varmax.VARMAX.html'>\n",
    "varmax.VARMAX</a></strong><font color=black>(endog[, exog, order, trend, …])</font>&nbsp;&nbsp;Vector Autoregressive Moving Average with eXogenous regressors model<br>\n",
    "<strong>\n",
    "<a href='https://www.statsmodels.org/stable/generated/statsmodels.tsa.statespace.varmax.VARMAXResults.html'>\n",
    "varmax.VARMAXResults</a></strong><font color=black>(model, params[, …])</font>&nbsp;&nbsp;&nbsp;&nbsp;&nbsp;&nbsp;&nbsp;Class to hold results from fitting an VARMAX model<br>\n",
    "</tt>\n",
    "   \n",
    "<h3>For Further Reading:</h3>\n",
    "<strong>\n",
    "<a href='https://www.statsmodels.org/stable/statespace.html#vector-autoregressive-moving-average-with-exogenous-regressors-varmax'>Statsmodels Tutorial:</a></strong>&nbsp;&nbsp;<font color=black>Time Series Analysis by State Space Methods</font><br>\n",
    "<strong>\n",
    "<a href='https://www.statsmodels.org/stable/examples/notebooks/generated/statespace_varmax.html'>Statsmodels Example:</a></strong>&nbsp;&nbsp;<font color=black>VARMAX models</font><br>\n",
    "</div>"
   ]
  },
  {
   "cell_type": "markdown",
   "metadata": {},
   "source": [
    "### Perform standard imports and load dataset\n",
    "For this analysis we'll reuse our money and spending datasets. We'll look at the M2 Money Stock which is a measure of U.S. personal assets, and U.S. personal spending. Both datasets are in billions of dollars, monthly, seasonally adjusted. They span the 21 years from January 1995 to December 2015 (252 records).<br>\n",
    "Sources: https://fred.stlouisfed.org/series/M2SL https://fred.stlouisfed.org/series/PCE"
   ]
  },
  {
   "cell_type": "code",
   "execution_count": 1,
   "metadata": {},
   "outputs": [],
   "source": [
    "import numpy as np\n",
    "import pandas as pd\n",
    "%matplotlib inline\n",
    "\n",
    "# Load specific forecasting tools\n",
    "from statsmodels.tsa.statespace.varmax import VARMAX, VARMAXResults\n",
    "from statsmodels.tsa.stattools import adfuller\n",
    "from pmdarima import auto_arima\n",
    "from statsmodels.tools.eval_measures import rmse\n",
    "\n",
    "# Ignore harmless warnings\n",
    "import warnings\n",
    "warnings.filterwarnings(\"ignore\")\n",
    "\n",
    "# Load datasets\n",
    "df = pd.read_csv('../Data/M2SLMoneyStock.csv',index_col=0, parse_dates=True)\n",
    "df.index.freq = 'MS'\n",
    "\n",
    "sp = pd.read_csv('../Data/PCEPersonalSpending.csv',index_col=0, parse_dates=True)\n",
    "sp.index.freq = 'MS'"
   ]
  },
  {
   "cell_type": "markdown",
   "metadata": {},
   "source": [
    "### Inspect the data"
   ]
  },
  {
   "cell_type": "code",
   "execution_count": 2,
   "metadata": {},
   "outputs": [
    {
     "data": {
      "text/html": [
       "<div>\n",
       "<style scoped>\n",
       "    .dataframe tbody tr th:only-of-type {\n",
       "        vertical-align: middle;\n",
       "    }\n",
       "\n",
       "    .dataframe tbody tr th {\n",
       "        vertical-align: top;\n",
       "    }\n",
       "\n",
       "    .dataframe thead th {\n",
       "        text-align: right;\n",
       "    }\n",
       "</style>\n",
       "<table border=\"1\" class=\"dataframe\">\n",
       "  <thead>\n",
       "    <tr style=\"text-align: right;\">\n",
       "      <th></th>\n",
       "      <th>Money</th>\n",
       "      <th>Spending</th>\n",
       "    </tr>\n",
       "    <tr>\n",
       "      <th>Date</th>\n",
       "      <th></th>\n",
       "      <th></th>\n",
       "    </tr>\n",
       "  </thead>\n",
       "  <tbody>\n",
       "    <tr>\n",
       "      <td>1995-01-01</td>\n",
       "      <td>3492.4</td>\n",
       "      <td>4851.2</td>\n",
       "    </tr>\n",
       "    <tr>\n",
       "      <td>1995-02-01</td>\n",
       "      <td>3489.9</td>\n",
       "      <td>4850.8</td>\n",
       "    </tr>\n",
       "    <tr>\n",
       "      <td>1995-03-01</td>\n",
       "      <td>3491.1</td>\n",
       "      <td>4885.4</td>\n",
       "    </tr>\n",
       "    <tr>\n",
       "      <td>1995-04-01</td>\n",
       "      <td>3499.2</td>\n",
       "      <td>4890.2</td>\n",
       "    </tr>\n",
       "    <tr>\n",
       "      <td>1995-05-01</td>\n",
       "      <td>3524.2</td>\n",
       "      <td>4933.1</td>\n",
       "    </tr>\n",
       "  </tbody>\n",
       "</table>\n",
       "</div>"
      ],
      "text/plain": [
       "             Money  Spending\n",
       "Date                        \n",
       "1995-01-01  3492.4    4851.2\n",
       "1995-02-01  3489.9    4850.8\n",
       "1995-03-01  3491.1    4885.4\n",
       "1995-04-01  3499.2    4890.2\n",
       "1995-05-01  3524.2    4933.1"
      ]
     },
     "execution_count": 2,
     "metadata": {},
     "output_type": "execute_result"
    }
   ],
   "source": [
    "df = df.join(sp)\n",
    "df.head()"
   ]
  },
  {
   "cell_type": "code",
   "execution_count": 3,
   "metadata": {},
   "outputs": [
    {
     "data": {
      "text/plain": [
       "(252, 2)"
      ]
     },
     "execution_count": 3,
     "metadata": {},
     "output_type": "execute_result"
    }
   ],
   "source": [
    "df = df.dropna()\n",
    "df.shape"
   ]
  },
  {
   "cell_type": "markdown",
   "metadata": {},
   "source": [
    "### Plot the source data"
   ]
  },
  {
   "cell_type": "code",
   "execution_count": 4,
   "metadata": {},
   "outputs": [
    {
     "data": {
      "image/png": "[encoded data removed]",
      "text/plain": [
       "<Figure size 864x360 with 1 Axes>"
      ]
     },
     "metadata": {
      "needs_background": "light"
     },
     "output_type": "display_data"
    }
   ],
   "source": [
    "title = 'M2 Money Stock vs. Personal Consumption Expenditures'\n",
    "ylabel='Billions of dollars'\n",
    "xlabel=''\n",
    "\n",
    "ax = df['Spending'].plot(figsize=(12,5),title=title,legend=True)\n",
    "ax.autoscale(axis='x',tight=True)\n",
    "ax.set(xlabel=xlabel, ylabel=ylabel)\n",
    "df['Money'].plot(legend=True);"
   ]
  },
  {
   "cell_type": "markdown",
   "metadata": {},
   "source": [
    "## Test for stationarity, perform any necessary transformations\n",
    "In the previous section we applied the augmented Dickey-Fuller test and found that a second-order difference achieved stationarity. In this section we'll perform the <strong>auto_arima</strong> prediction to identify optimal $p$ and $q$ orders."
   ]
  },
  {
   "cell_type": "code",
   "execution_count": 5,
   "metadata": {},
   "outputs": [],
   "source": [
    "# INCLUDED HERE IF YOU CHOOSE TO USE IT\n",
    "def adf_test(series,title=''):\n",
    "    \"\"\"\n",
    "    Pass in a time series and an optional title, returns an ADF report\n",
    "    \"\"\"\n",
    "    print(f'Augmented Dickey-Fuller Test: {title}')\n",
    "    result = adfuller(series.dropna(),autolag='AIC') # .dropna() handles differenced data\n",
    "    \n",
    "    labels = ['ADF test statistic','p-value','# lags used','# observations']\n",
    "    out = pd.Series(result[0:4],index=labels)\n",
    "\n",
    "    for key,val in result[4].items():\n",
    "        out[f'critical value ({key})']=val\n",
    "        \n",
    "    print(out.to_string())          # .to_string() removes the line \"dtype: float64\"\n",
    "    \n",
    "    if result[1] <= 0.05:\n",
    "        print(\"Strong evidence against the null hypothesis\")\n",
    "        print(\"Reject the null hypothesis\")\n",
    "        print(\"Data has no unit root and is stationary\")\n",
    "    else:\n",
    "        print(\"Weak evidence against the null hypothesis\")\n",
    "        print(\"Fail to reject the null hypothesis\")\n",
    "        print(\"Data has a unit root and is non-stationary\")"
   ]
  },
  {
   "cell_type": "markdown",
   "metadata": {},
   "source": [
    "<div class=\"alert alert-info\"><strong>NOTE: </strong> When performing the auto_arima function we're likely to see a <tt><font color=black>ConvergenceWarning: Maximum Likelihood optimization failed to converge.</font></tt> This is not unusual in models which have to estimate a large number of parameters. However, we can override the maximum iterations default of 50, and pass an arbitrarily large number with <tt>maxiter=1000</tt>. We'll see this come up again when we fit our model.</div>  "
   ]
  },
  {
   "cell_type": "code",
   "execution_count": 8,
   "metadata": {},
   "outputs": [
    {
     "data": {
      "text/plain": [
       "ARIMA(maxiter=1000, method='lbfgs', order=(3, 2, 3), out_of_sample_size=0,\n",
       "      scoring='mse', scoring_args=None, seasonal_order=(0, 0, 0, 0),\n",
       "      start_params=None, suppress_warnings=False, trend=None,\n",
       "      with_intercept=True)"
      ]
     },
     "execution_count": 8,
     "metadata": {},
     "output_type": "execute_result"
    }
   ],
   "source": [
    "auto_arima(df['Money'],maxiter=1000)"
   ]
  },
  {
   "cell_type": "code",
   "execution_count": 9,
   "metadata": {},
   "outputs": [
    {
     "data": {
      "text/plain": [
       "ARIMA(maxiter=1000, method='lbfgs', order=(1, 1, 2), out_of_sample_size=0,\n",
       "      scoring='mse', scoring_args=None, seasonal_order=(0, 0, 0, 0),\n",
       "      start_params=None, suppress_warnings=False, trend=None,\n",
       "      with_intercept=True)"
      ]
     },
     "execution_count": 9,
     "metadata": {},
     "output_type": "execute_result"
    }
   ],
   "source": [
    "auto_arima(df['Spending'],maxiter=1000)"
   ]
  },
  {
   "cell_type": "markdown",
   "metadata": {},
   "source": [
    "It looks like a VARMA(1,2) model is recommended. Note that the $d$ term (2 for Money, 1 for Spending) is about to be addressed by transforming the data to make it stationary. As before we'll apply a second order difference."
   ]
  },
  {
   "cell_type": "code",
   "execution_count": 10,
   "metadata": {},
   "outputs": [
    {
     "data": {
      "text/html": [
       "<div>\n",
       "<style scoped>\n",
       "    .dataframe tbody tr th:only-of-type {\n",
       "        vertical-align: middle;\n",
       "    }\n",
       "\n",
       "    .dataframe tbody tr th {\n",
       "        vertical-align: top;\n",
       "    }\n",
       "\n",
       "    .dataframe thead th {\n",
       "        text-align: right;\n",
       "    }\n",
       "</style>\n",
       "<table border=\"1\" class=\"dataframe\">\n",
       "  <thead>\n",
       "    <tr style=\"text-align: right;\">\n",
       "      <th></th>\n",
       "      <th>Money</th>\n",
       "      <th>Spending</th>\n",
       "    </tr>\n",
       "    <tr>\n",
       "      <th>Date</th>\n",
       "      <th></th>\n",
       "      <th></th>\n",
       "    </tr>\n",
       "  </thead>\n",
       "  <tbody>\n",
       "    <tr>\n",
       "      <td>1995-03-01</td>\n",
       "      <td>3.7</td>\n",
       "      <td>35.0</td>\n",
       "    </tr>\n",
       "    <tr>\n",
       "      <td>1995-04-01</td>\n",
       "      <td>6.9</td>\n",
       "      <td>-29.8</td>\n",
       "    </tr>\n",
       "    <tr>\n",
       "      <td>1995-05-01</td>\n",
       "      <td>16.9</td>\n",
       "      <td>38.1</td>\n",
       "    </tr>\n",
       "    <tr>\n",
       "      <td>1995-06-01</td>\n",
       "      <td>-0.3</td>\n",
       "      <td>1.5</td>\n",
       "    </tr>\n",
       "    <tr>\n",
       "      <td>1995-07-01</td>\n",
       "      <td>-6.2</td>\n",
       "      <td>-51.7</td>\n",
       "    </tr>\n",
       "  </tbody>\n",
       "</table>\n",
       "</div>"
      ],
      "text/plain": [
       "            Money  Spending\n",
       "Date                       \n",
       "1995-03-01    3.7      35.0\n",
       "1995-04-01    6.9     -29.8\n",
       "1995-05-01   16.9      38.1\n",
       "1995-06-01   -0.3       1.5\n",
       "1995-07-01   -6.2     -51.7"
      ]
     },
     "execution_count": 10,
     "metadata": {},
     "output_type": "execute_result"
    }
   ],
   "source": [
    "df_transformed = df.diff().diff()\n",
    "df_transformed = df_transformed.dropna()\n",
    "df_transformed.head()"
   ]
  },
  {
   "cell_type": "code",
   "execution_count": 11,
   "metadata": {},
   "outputs": [
    {
     "data": {
      "text/plain": [
       "250"
      ]
     },
     "execution_count": 11,
     "metadata": {},
     "output_type": "execute_result"
    }
   ],
   "source": [
    "len(df_transformed)"
   ]
  },
  {
   "cell_type": "markdown",
   "metadata": {},
   "source": [
    "## Train/test/split\n",
    "It is useful to define a number of observations variable for our test set. For this analysis, let's use 12 months."
   ]
  },
  {
   "cell_type": "code",
   "execution_count": 12,
   "metadata": {},
   "outputs": [],
   "source": [
    "nobs=12\n",
    "train, test = df_transformed[0:-nobs], df_transformed[-nobs:]"
   ]
  },
  {
   "cell_type": "code",
   "execution_count": 13,
   "metadata": {},
   "outputs": [
    {
     "name": "stdout",
     "output_type": "stream",
     "text": [
      "(238, 2)\n",
      "(12, 2)\n"
     ]
    }
   ],
   "source": [
    "print(train.shape)\n",
    "print(test.shape)"
   ]
  },
  {
   "cell_type": "markdown",
   "metadata": {},
   "source": [
    "## Fit the VARMA(1,2) Model\n",
    "This may take awhile."
   ]
  },
  {
   "cell_type": "code",
   "execution_count": 15,
   "metadata": {},
   "outputs": [
    {
     "data": {
      "text/html": [
       "<table class=\"simpletable\">\n",
       "<caption>Statespace Model Results</caption>\n",
       "<tr>\n",
       "  <th>Dep. Variable:</th>   <td>['Money', 'Spending']</td> <th>  No. Observations:  </th>    <td>238</td>   \n",
       "</tr>\n",
       "<tr>\n",
       "  <th>Model:</th>                <td>VARMA(3,3)</td>       <th>  Log Likelihood     </th> <td>-2270.318</td>\n",
       "</tr>\n",
       "<tr>\n",
       "  <th></th>                      <td>+ intercept</td>      <th>  AIC                </th> <td>4598.635</td> \n",
       "</tr>\n",
       "<tr>\n",
       "  <th>Date:</th>              <td>Mon, 13 Apr 2020</td>    <th>  BIC                </th> <td>4699.331</td> \n",
       "</tr>\n",
       "<tr>\n",
       "  <th>Time:</th>                  <td>13:26:46</td>        <th>  HQIC               </th> <td>4639.217</td> \n",
       "</tr>\n",
       "<tr>\n",
       "  <th>Sample:</th>               <td>03-01-1995</td>       <th>                     </th>     <td> </td>    \n",
       "</tr>\n",
       "<tr>\n",
       "  <th></th>                     <td>- 12-01-2014</td>      <th>                     </th>     <td> </td>    \n",
       "</tr>\n",
       "<tr>\n",
       "  <th>Covariance Type:</th>          <td>opg</td>          <th>                     </th>     <td> </td>    \n",
       "</tr>\n",
       "</table>\n",
       "<table class=\"simpletable\">\n",
       "<tr>\n",
       "  <th>Ljung-Box (Q):</th>          <td>44.90, 28.73</td> <th>  Jarque-Bera (JB):  </th> <td>605.43, 131.47</td>\n",
       "</tr>\n",
       "<tr>\n",
       "  <th>Prob(Q):</th>                 <td>0.27, 0.91</td>  <th>  Prob(JB):          </th>   <td>0.00, 0.00</td>  \n",
       "</tr>\n",
       "<tr>\n",
       "  <th>Heteroskedasticity (H):</th>  <td>6.20, 2.73</td>  <th>  Skew:              </th>   <td>1.35, -0.42</td> \n",
       "</tr>\n",
       "<tr>\n",
       "  <th>Prob(H) (two-sided):</th>     <td>0.00, 0.00</td>  <th>  Kurtosis:          </th>   <td>10.33, 6.54</td> \n",
       "</tr>\n",
       "</table>\n",
       "<table class=\"simpletable\">\n",
       "<caption>Results for equation Money</caption>\n",
       "<tr>\n",
       "         <td></td>           <th>coef</th>     <th>std err</th>      <th>z</th>      <th>P>|z|</th>  <th>[0.025</th>    <th>0.975]</th>  \n",
       "</tr>\n",
       "<tr>\n",
       "  <th>intercept</th>      <td>    0.3500</td> <td>    0.374</td> <td>    0.936</td> <td> 0.349</td> <td>   -0.383</td> <td>    1.082</td>\n",
       "</tr>\n",
       "<tr>\n",
       "  <th>L1.Money</th>       <td>   -0.5080</td> <td>    0.294</td> <td>   -1.726</td> <td> 0.084</td> <td>   -1.085</td> <td>    0.069</td>\n",
       "</tr>\n",
       "<tr>\n",
       "  <th>L1.Spending</th>    <td>   -0.1876</td> <td>    1.265</td> <td>   -0.148</td> <td> 0.882</td> <td>   -2.667</td> <td>    2.291</td>\n",
       "</tr>\n",
       "<tr>\n",
       "  <th>L2.Money</th>       <td>   -0.1514</td> <td>    0.592</td> <td>   -0.256</td> <td> 0.798</td> <td>   -1.311</td> <td>    1.008</td>\n",
       "</tr>\n",
       "<tr>\n",
       "  <th>L2.Spending</th>    <td>   -0.4016</td> <td>    0.412</td> <td>   -0.974</td> <td> 0.330</td> <td>   -1.210</td> <td>    0.407</td>\n",
       "</tr>\n",
       "<tr>\n",
       "  <th>L3.Money</th>       <td>    0.2435</td> <td>    0.125</td> <td>    1.950</td> <td> 0.051</td> <td>   -0.001</td> <td>    0.488</td>\n",
       "</tr>\n",
       "<tr>\n",
       "  <th>L3.Spending</th>    <td>   -0.2372</td> <td>    0.070</td> <td>   -3.379</td> <td> 0.001</td> <td>   -0.375</td> <td>   -0.100</td>\n",
       "</tr>\n",
       "<tr>\n",
       "  <th>L1.e(Money)</th>    <td>   -0.2921</td> <td>    2.349</td> <td>   -0.124</td> <td> 0.901</td> <td>   -4.897</td> <td>    4.313</td>\n",
       "</tr>\n",
       "<tr>\n",
       "  <th>L1.e(Spending)</th> <td>    0.0715</td> <td>    1.266</td> <td>    0.057</td> <td> 0.955</td> <td>   -2.409</td> <td>    2.552</td>\n",
       "</tr>\n",
       "<tr>\n",
       "  <th>L2.e(Money)</th>    <td>   -0.3850</td> <td>    1.759</td> <td>   -0.219</td> <td> 0.827</td> <td>   -3.832</td> <td>    3.062</td>\n",
       "</tr>\n",
       "<tr>\n",
       "  <th>L2.e(Spending)</th> <td>    0.1338</td> <td>    0.958</td> <td>    0.140</td> <td> 0.889</td> <td>   -1.744</td> <td>    2.011</td>\n",
       "</tr>\n",
       "<tr>\n",
       "  <th>L3.e(Money)</th>    <td>   -0.2933</td> <td>    1.077</td> <td>   -0.272</td> <td> 0.785</td> <td>   -2.405</td> <td>    1.818</td>\n",
       "</tr>\n",
       "<tr>\n",
       "  <th>L3.e(Spending)</th> <td>   -0.0937</td> <td>    0.314</td> <td>   -0.299</td> <td> 0.765</td> <td>   -0.709</td> <td>    0.521</td>\n",
       "</tr>\n",
       "</table>\n",
       "<table class=\"simpletable\">\n",
       "<caption>Results for equation Spending</caption>\n",
       "<tr>\n",
       "         <td></td>           <th>coef</th>     <th>std err</th>      <th>z</th>      <th>P>|z|</th>  <th>[0.025</th>    <th>0.975]</th>  \n",
       "</tr>\n",
       "<tr>\n",
       "  <th>intercept</th>      <td>    0.1714</td> <td>    0.631</td> <td>    0.272</td> <td> 0.786</td> <td>   -1.065</td> <td>    1.407</td>\n",
       "</tr>\n",
       "<tr>\n",
       "  <th>L1.Money</th>       <td>   -0.4128</td> <td>    0.520</td> <td>   -0.794</td> <td> 0.427</td> <td>   -1.432</td> <td>    0.606</td>\n",
       "</tr>\n",
       "<tr>\n",
       "  <th>L1.Spending</th>    <td>   -0.1899</td> <td>    2.296</td> <td>   -0.083</td> <td> 0.934</td> <td>   -4.690</td> <td>    4.310</td>\n",
       "</tr>\n",
       "<tr>\n",
       "  <th>L2.Money</th>       <td>    0.1018</td> <td>    1.112</td> <td>    0.092</td> <td> 0.927</td> <td>   -2.077</td> <td>    2.281</td>\n",
       "</tr>\n",
       "<tr>\n",
       "  <th>L2.Spending</th>    <td>    0.0310</td> <td>    0.789</td> <td>    0.039</td> <td> 0.969</td> <td>   -1.515</td> <td>    1.578</td>\n",
       "</tr>\n",
       "<tr>\n",
       "  <th>L3.Money</th>       <td>   -0.0880</td> <td>    0.195</td> <td>   -0.452</td> <td> 0.651</td> <td>   -0.469</td> <td>    0.294</td>\n",
       "</tr>\n",
       "<tr>\n",
       "  <th>L3.Spending</th>    <td>    0.0082</td> <td>    0.190</td> <td>    0.043</td> <td> 0.966</td> <td>   -0.365</td> <td>    0.381</td>\n",
       "</tr>\n",
       "<tr>\n",
       "  <th>L1.e(Money)</th>    <td>    0.6231</td> <td>    0.786</td> <td>    0.792</td> <td> 0.428</td> <td>   -0.918</td> <td>    2.165</td>\n",
       "</tr>\n",
       "<tr>\n",
       "  <th>L1.e(Spending)</th> <td>   -0.7577</td> <td>    2.290</td> <td>   -0.331</td> <td> 0.741</td> <td>   -5.245</td> <td>    3.730</td>\n",
       "</tr>\n",
       "<tr>\n",
       "  <th>L2.e(Money)</th>    <td>   -0.6792</td> <td>    1.952</td> <td>   -0.348</td> <td> 0.728</td> <td>   -4.504</td> <td>    3.146</td>\n",
       "</tr>\n",
       "<tr>\n",
       "  <th>L2.e(Spending)</th> <td>   -0.1655</td> <td>    1.682</td> <td>   -0.098</td> <td> 0.922</td> <td>   -3.463</td> <td>    3.132</td>\n",
       "</tr>\n",
       "<tr>\n",
       "  <th>L3.e(Money)</th>    <td>    0.0877</td> <td>    1.612</td> <td>    0.054</td> <td> 0.957</td> <td>   -3.071</td> <td>    3.247</td>\n",
       "</tr>\n",
       "<tr>\n",
       "  <th>L3.e(Spending)</th> <td>    0.0435</td> <td>    0.572</td> <td>    0.076</td> <td> 0.939</td> <td>   -1.077</td> <td>    1.164</td>\n",
       "</tr>\n",
       "</table>\n",
       "<table class=\"simpletable\">\n",
       "<caption>Error covariance matrix</caption>\n",
       "<tr>\n",
       "             <td></td>                <th>coef</th>     <th>std err</th>      <th>z</th>      <th>P>|z|</th>  <th>[0.025</th>    <th>0.975]</th>  \n",
       "</tr>\n",
       "<tr>\n",
       "  <th>sqrt.var.Money</th>          <td>   24.4878</td> <td>   28.355</td> <td>    0.864</td> <td> 0.388</td> <td>  -31.087</td> <td>   80.063</td>\n",
       "</tr>\n",
       "<tr>\n",
       "  <th>sqrt.cov.Money.Spending</th> <td>   -8.2229</td> <td>    6.238</td> <td>   -1.318</td> <td> 0.187</td> <td>  -20.449</td> <td>    4.003</td>\n",
       "</tr>\n",
       "<tr>\n",
       "  <th>sqrt.var.Spending</th>       <td>   32.7154</td> <td>    1.318</td> <td>   24.831</td> <td> 0.000</td> <td>   30.133</td> <td>   35.298</td>\n",
       "</tr>\n",
       "</table><br/><br/>Warnings:<br/>[1] Covariance matrix calculated using the outer product of gradients (complex-step)."
      ],
      "text/plain": [
       "<class 'statsmodels.iolib.summary.Summary'>\n",
       "\"\"\"\n",
       "                             Statespace Model Results                            \n",
       "=================================================================================\n",
       "Dep. Variable:     ['Money', 'Spending']   No. Observations:                  238\n",
       "Model:                        VARMA(3,3)   Log Likelihood               -2270.318\n",
       "                             + intercept   AIC                           4598.635\n",
       "Date:                   Mon, 13 Apr 2020   BIC                           4699.331\n",
       "Time:                           13:26:46   HQIC                          4639.217\n",
       "Sample:                       03-01-1995                                         \n",
       "                            - 12-01-2014                                         \n",
       "Covariance Type:                     opg                                         \n",
       "===================================================================================\n",
       "Ljung-Box (Q):                44.90, 28.73   Jarque-Bera (JB):       605.43, 131.47\n",
       "Prob(Q):                        0.27, 0.91   Prob(JB):                   0.00, 0.00\n",
       "Heteroskedasticity (H):         6.20, 2.73   Skew:                      1.35, -0.42\n",
       "Prob(H) (two-sided):            0.00, 0.00   Kurtosis:                  10.33, 6.54\n",
       "                            Results for equation Money                            \n",
       "==================================================================================\n",
       "                     coef    std err          z      P>|z|      [0.025      0.975]\n",
       "----------------------------------------------------------------------------------\n",
       "intercept          0.3500      0.374      0.936      0.349      -0.383       1.082\n",
       "L1.Money          -0.5080      0.294     -1.726      0.084      -1.085       0.069\n",
       "L1.Spending       -0.1876      1.265     -0.148      0.882      -2.667       2.291\n",
       "L2.Money          -0.1514      0.592     -0.256      0.798      -1.311       1.008\n",
       "L2.Spending       -0.4016      0.412     -0.974      0.330      -1.210       0.407\n",
       "L3.Money           0.2435      0.125      1.950      0.051      -0.001       0.488\n",
       "L3.Spending       -0.2372      0.070     -3.379      0.001      -0.375      -0.100\n",
       "L1.e(Money)       -0.2921      2.349     -0.124      0.901      -4.897       4.313\n",
       "L1.e(Spending)     0.0715      1.266      0.057      0.955      -2.409       2.552\n",
       "L2.e(Money)       -0.3850      1.759     -0.219      0.827      -3.832       3.062\n",
       "L2.e(Spending)     0.1338      0.958      0.140      0.889      -1.744       2.011\n",
       "L3.e(Money)       -0.2933      1.077     -0.272      0.785      -2.405       1.818\n",
       "L3.e(Spending)    -0.0937      0.314     -0.299      0.765      -0.709       0.521\n",
       "                          Results for equation Spending                           \n",
       "==================================================================================\n",
       "                     coef    std err          z      P>|z|      [0.025      0.975]\n",
       "----------------------------------------------------------------------------------\n",
       "intercept          0.1714      0.631      0.272      0.786      -1.065       1.407\n",
       "L1.Money          -0.4128      0.520     -0.794      0.427      -1.432       0.606\n",
       "L1.Spending       -0.1899      2.296     -0.083      0.934      -4.690       4.310\n",
       "L2.Money           0.1018      1.112      0.092      0.927      -2.077       2.281\n",
       "L2.Spending        0.0310      0.789      0.039      0.969      -1.515       1.578\n",
       "L3.Money          -0.0880      0.195     -0.452      0.651      -0.469       0.294\n",
       "L3.Spending        0.0082      0.190      0.043      0.966      -0.365       0.381\n",
       "L1.e(Money)        0.6231      0.786      0.792      0.428      -0.918       2.165\n",
       "L1.e(Spending)    -0.7577      2.290     -0.331      0.741      -5.245       3.730\n",
       "L2.e(Money)       -0.6792      1.952     -0.348      0.728      -4.504       3.146\n",
       "L2.e(Spending)    -0.1655      1.682     -0.098      0.922      -3.463       3.132\n",
       "L3.e(Money)        0.0877      1.612      0.054      0.957      -3.071       3.247\n",
       "L3.e(Spending)     0.0435      0.572      0.076      0.939      -1.077       1.164\n",
       "                                  Error covariance matrix                                  \n",
       "===========================================================================================\n",
       "                              coef    std err          z      P>|z|      [0.025      0.975]\n",
       "-------------------------------------------------------------------------------------------\n",
       "sqrt.var.Money             24.4878     28.355      0.864      0.388     -31.087      80.063\n",
       "sqrt.cov.Money.Spending    -8.2229      6.238     -1.318      0.187     -20.449       4.003\n",
       "sqrt.var.Spending          32.7154      1.318     24.831      0.000      30.133      35.298\n",
       "===========================================================================================\n",
       "\n",
       "Warnings:\n",
       "[1] Covariance matrix calculated using the outer product of gradients (complex-step).\n",
       "\"\"\""
      ]
     },
     "execution_count": 15,
     "metadata": {},
     "output_type": "execute_result"
    }
   ],
   "source": [
    "model = VARMAX(train, order=(3,3), trend='c') #c means constant linear trend\n",
    "results = model.fit(maxiter=1000, disp=False) # disp means display\n",
    "results.summary()"
   ]
  },
  {
   "cell_type": "markdown",
   "metadata": {},
   "source": [
    "## Predict the next 12 values\n",
    "Unlike the VAR model we used in the previous section, the VARMAX <tt>.forecast()</tt> function won't require that we pass in a number of previous observations, and it will provide an extended DateTime index."
   ]
  },
  {
   "cell_type": "code",
   "execution_count": 17,
   "metadata": {},
   "outputs": [
    {
     "data": {
      "text/html": [
       "<div>\n",
       "<style scoped>\n",
       "    .dataframe tbody tr th:only-of-type {\n",
       "        vertical-align: middle;\n",
       "    }\n",
       "\n",
       "    .dataframe tbody tr th {\n",
       "        vertical-align: top;\n",
       "    }\n",
       "\n",
       "    .dataframe thead th {\n",
       "        text-align: right;\n",
       "    }\n",
       "</style>\n",
       "<table border=\"1\" class=\"dataframe\">\n",
       "  <thead>\n",
       "    <tr style=\"text-align: right;\">\n",
       "      <th></th>\n",
       "      <th>Money</th>\n",
       "      <th>Spending</th>\n",
       "    </tr>\n",
       "  </thead>\n",
       "  <tbody>\n",
       "    <tr>\n",
       "      <td>2015-01-01</td>\n",
       "      <td>-13.065844</td>\n",
       "      <td>34.428874</td>\n",
       "    </tr>\n",
       "    <tr>\n",
       "      <td>2015-02-01</td>\n",
       "      <td>-1.446090</td>\n",
       "      <td>-5.531317</td>\n",
       "    </tr>\n",
       "    <tr>\n",
       "      <td>2015-03-01</td>\n",
       "      <td>1.607458</td>\n",
       "      <td>-1.862409</td>\n",
       "    </tr>\n",
       "    <tr>\n",
       "      <td>2015-04-01</td>\n",
       "      <td>-9.023899</td>\n",
       "      <td>0.974163</td>\n",
       "    </tr>\n",
       "    <tr>\n",
       "      <td>2015-05-01</td>\n",
       "      <td>6.215757</td>\n",
       "      <td>3.899248</td>\n",
       "    </tr>\n",
       "    <tr>\n",
       "      <td>2015-06-01</td>\n",
       "      <td>-1.731304</td>\n",
       "      <td>-4.180487</td>\n",
       "    </tr>\n",
       "    <tr>\n",
       "      <td>2015-07-01</td>\n",
       "      <td>-2.921015</td>\n",
       "      <td>3.235656</td>\n",
       "    </tr>\n",
       "    <tr>\n",
       "      <td>2015-08-01</td>\n",
       "      <td>3.756139</td>\n",
       "      <td>-0.058076</td>\n",
       "    </tr>\n",
       "    <tr>\n",
       "      <td>2015-09-01</td>\n",
       "      <td>-1.834412</td>\n",
       "      <td>-1.447257</td>\n",
       "    </tr>\n",
       "    <tr>\n",
       "      <td>2015-10-01</td>\n",
       "      <td>-0.470471</td>\n",
       "      <td>1.867641</td>\n",
       "    </tr>\n",
       "    <tr>\n",
       "      <td>2015-11-01</td>\n",
       "      <td>2.025711</td>\n",
       "      <td>-0.551684</td>\n",
       "    </tr>\n",
       "    <tr>\n",
       "      <td>2015-12-01</td>\n",
       "      <td>-1.357705</td>\n",
       "      <td>-0.400584</td>\n",
       "    </tr>\n",
       "  </tbody>\n",
       "</table>\n",
       "</div>"
      ],
      "text/plain": [
       "                Money   Spending\n",
       "2015-01-01 -13.065844  34.428874\n",
       "2015-02-01  -1.446090  -5.531317\n",
       "2015-03-01   1.607458  -1.862409\n",
       "2015-04-01  -9.023899   0.974163\n",
       "2015-05-01   6.215757   3.899248\n",
       "2015-06-01  -1.731304  -4.180487\n",
       "2015-07-01  -2.921015   3.235656\n",
       "2015-08-01   3.756139  -0.058076\n",
       "2015-09-01  -1.834412  -1.447257\n",
       "2015-10-01  -0.470471   1.867641\n",
       "2015-11-01   2.025711  -0.551684\n",
       "2015-12-01  -1.357705  -0.400584"
      ]
     },
     "execution_count": 17,
     "metadata": {},
     "output_type": "execute_result"
    }
   ],
   "source": [
    "df_forecast = results.forecast(12)\n",
    "df_forecast"
   ]
  },
  {
   "cell_type": "markdown",
   "metadata": {},
   "source": [
    "## Invert the Transformation\n",
    "Remember that the forecasted values represent second-order differences. To compare them to the original data we have to roll back each difference. To roll back a first-order difference we take the most recent value on the training side of the original series, and add it to a cumulative sum of forecasted values. When working with second-order differences we first must perform this operation on the most recent first-order difference.\n",
    "\n",
    "Here we'll use the <tt>nobs</tt> variable we defined during the train/test/split step."
   ]
  },
  {
   "cell_type": "code",
   "execution_count": 18,
   "metadata": {},
   "outputs": [],
   "source": [
    "# Add the most recent first difference from the training side of the original dataset to the forecast cumulative sum\n",
    "df_forecast['Money1d'] = (df['Money'].iloc[-nobs-1]-df['Money'].iloc[-nobs-2]) + df_forecast['Money'].cumsum()\n",
    "\n",
    "# Now build the forecast values from the first difference set\n",
    "df_forecast['MoneyForecast'] = df['Money'].iloc[-nobs-1] + df_forecast['Money'].cumsum()"
   ]
  },
  {
   "cell_type": "code",
   "execution_count": 19,
   "metadata": {},
   "outputs": [],
   "source": [
    "# Add the most recent first difference from the training side of the original dataset to the forecast cumulative sum\n",
    "df_forecast['Spending1d'] = (df['Spending'].iloc[-nobs-1]-df['Spending'].iloc[-nobs-2]) + df_forecast['Spending'].cumsum()\n",
    "\n",
    "# Now build the forecast values from the first difference set\n",
    "df_forecast['SpendingForecast'] = df['Spending'].iloc[-nobs-1] + df_forecast['Spending'].cumsum()"
   ]
  },
  {
   "cell_type": "code",
   "execution_count": 20,
   "metadata": {},
   "outputs": [
    {
     "data": {
      "text/html": [
       "<div>\n",
       "<style scoped>\n",
       "    .dataframe tbody tr th:only-of-type {\n",
       "        vertical-align: middle;\n",
       "    }\n",
       "\n",
       "    .dataframe tbody tr th {\n",
       "        vertical-align: top;\n",
       "    }\n",
       "\n",
       "    .dataframe thead th {\n",
       "        text-align: right;\n",
       "    }\n",
       "</style>\n",
       "<table border=\"1\" class=\"dataframe\">\n",
       "  <thead>\n",
       "    <tr style=\"text-align: right;\">\n",
       "      <th></th>\n",
       "      <th>Money</th>\n",
       "      <th>Spending</th>\n",
       "      <th>Money1d</th>\n",
       "      <th>MoneyForecast</th>\n",
       "      <th>Spending1d</th>\n",
       "      <th>SpendingForecast</th>\n",
       "    </tr>\n",
       "  </thead>\n",
       "  <tbody>\n",
       "    <tr>\n",
       "      <td>2015-01-01</td>\n",
       "      <td>-13.065844</td>\n",
       "      <td>34.428874</td>\n",
       "      <td>65.534156</td>\n",
       "      <td>11657.034156</td>\n",
       "      <td>45.028874</td>\n",
       "      <td>12096.428874</td>\n",
       "    </tr>\n",
       "    <tr>\n",
       "      <td>2015-02-01</td>\n",
       "      <td>-1.446090</td>\n",
       "      <td>-5.531317</td>\n",
       "      <td>64.088066</td>\n",
       "      <td>11655.588066</td>\n",
       "      <td>39.497557</td>\n",
       "      <td>12090.897557</td>\n",
       "    </tr>\n",
       "    <tr>\n",
       "      <td>2015-03-01</td>\n",
       "      <td>1.607458</td>\n",
       "      <td>-1.862409</td>\n",
       "      <td>65.695524</td>\n",
       "      <td>11657.195524</td>\n",
       "      <td>37.635148</td>\n",
       "      <td>12089.035148</td>\n",
       "    </tr>\n",
       "    <tr>\n",
       "      <td>2015-04-01</td>\n",
       "      <td>-9.023899</td>\n",
       "      <td>0.974163</td>\n",
       "      <td>56.671625</td>\n",
       "      <td>11648.171625</td>\n",
       "      <td>38.609311</td>\n",
       "      <td>12090.009311</td>\n",
       "    </tr>\n",
       "    <tr>\n",
       "      <td>2015-05-01</td>\n",
       "      <td>6.215757</td>\n",
       "      <td>3.899248</td>\n",
       "      <td>62.887382</td>\n",
       "      <td>11654.387382</td>\n",
       "      <td>42.508559</td>\n",
       "      <td>12093.908559</td>\n",
       "    </tr>\n",
       "    <tr>\n",
       "      <td>2015-06-01</td>\n",
       "      <td>-1.731304</td>\n",
       "      <td>-4.180487</td>\n",
       "      <td>61.156077</td>\n",
       "      <td>11652.656077</td>\n",
       "      <td>38.328073</td>\n",
       "      <td>12089.728073</td>\n",
       "    </tr>\n",
       "    <tr>\n",
       "      <td>2015-07-01</td>\n",
       "      <td>-2.921015</td>\n",
       "      <td>3.235656</td>\n",
       "      <td>58.235063</td>\n",
       "      <td>11649.735063</td>\n",
       "      <td>41.563728</td>\n",
       "      <td>12092.963728</td>\n",
       "    </tr>\n",
       "    <tr>\n",
       "      <td>2015-08-01</td>\n",
       "      <td>3.756139</td>\n",
       "      <td>-0.058076</td>\n",
       "      <td>61.991201</td>\n",
       "      <td>11653.491201</td>\n",
       "      <td>41.505652</td>\n",
       "      <td>12092.905652</td>\n",
       "    </tr>\n",
       "    <tr>\n",
       "      <td>2015-09-01</td>\n",
       "      <td>-1.834412</td>\n",
       "      <td>-1.447257</td>\n",
       "      <td>60.156789</td>\n",
       "      <td>11651.656789</td>\n",
       "      <td>40.058395</td>\n",
       "      <td>12091.458395</td>\n",
       "    </tr>\n",
       "    <tr>\n",
       "      <td>2015-10-01</td>\n",
       "      <td>-0.470471</td>\n",
       "      <td>1.867641</td>\n",
       "      <td>59.686318</td>\n",
       "      <td>11651.186318</td>\n",
       "      <td>41.926036</td>\n",
       "      <td>12093.326036</td>\n",
       "    </tr>\n",
       "    <tr>\n",
       "      <td>2015-11-01</td>\n",
       "      <td>2.025711</td>\n",
       "      <td>-0.551684</td>\n",
       "      <td>61.712029</td>\n",
       "      <td>11653.212029</td>\n",
       "      <td>41.374352</td>\n",
       "      <td>12092.774352</td>\n",
       "    </tr>\n",
       "    <tr>\n",
       "      <td>2015-12-01</td>\n",
       "      <td>-1.357705</td>\n",
       "      <td>-0.400584</td>\n",
       "      <td>60.354324</td>\n",
       "      <td>11651.854324</td>\n",
       "      <td>40.973768</td>\n",
       "      <td>12092.373768</td>\n",
       "    </tr>\n",
       "  </tbody>\n",
       "</table>\n",
       "</div>"
      ],
      "text/plain": [
       "                Money   Spending    Money1d  MoneyForecast  Spending1d  \\\n",
       "2015-01-01 -13.065844  34.428874  65.534156   11657.034156   45.028874   \n",
       "2015-02-01  -1.446090  -5.531317  64.088066   11655.588066   39.497557   \n",
       "2015-03-01   1.607458  -1.862409  65.695524   11657.195524   37.635148   \n",
       "2015-04-01  -9.023899   0.974163  56.671625   11648.171625   38.609311   \n",
       "2015-05-01   6.215757   3.899248  62.887382   11654.387382   42.508559   \n",
       "2015-06-01  -1.731304  -4.180487  61.156077   11652.656077   38.328073   \n",
       "2015-07-01  -2.921015   3.235656  58.235063   11649.735063   41.563728   \n",
       "2015-08-01   3.756139  -0.058076  61.991201   11653.491201   41.505652   \n",
       "2015-09-01  -1.834412  -1.447257  60.156789   11651.656789   40.058395   \n",
       "2015-10-01  -0.470471   1.867641  59.686318   11651.186318   41.926036   \n",
       "2015-11-01   2.025711  -0.551684  61.712029   11653.212029   41.374352   \n",
       "2015-12-01  -1.357705  -0.400584  60.354324   11651.854324   40.973768   \n",
       "\n",
       "            SpendingForecast  \n",
       "2015-01-01      12096.428874  \n",
       "2015-02-01      12090.897557  \n",
       "2015-03-01      12089.035148  \n",
       "2015-04-01      12090.009311  \n",
       "2015-05-01      12093.908559  \n",
       "2015-06-01      12089.728073  \n",
       "2015-07-01      12092.963728  \n",
       "2015-08-01      12092.905652  \n",
       "2015-09-01      12091.458395  \n",
       "2015-10-01      12093.326036  \n",
       "2015-11-01      12092.774352  \n",
       "2015-12-01      12092.373768  "
      ]
     },
     "execution_count": 20,
     "metadata": {},
     "output_type": "execute_result"
    }
   ],
   "source": [
    "df_forecast"
   ]
  },
  {
   "cell_type": "code",
   "execution_count": 21,
   "metadata": {},
   "outputs": [
    {
     "data": {
      "text/html": [
       "<div>\n",
       "<style scoped>\n",
       "    .dataframe tbody tr th:only-of-type {\n",
       "        vertical-align: middle;\n",
       "    }\n",
       "\n",
       "    .dataframe tbody tr th {\n",
       "        vertical-align: top;\n",
       "    }\n",
       "\n",
       "    .dataframe thead th {\n",
       "        text-align: right;\n",
       "    }\n",
       "</style>\n",
       "<table border=\"1\" class=\"dataframe\">\n",
       "  <thead>\n",
       "    <tr style=\"text-align: right;\">\n",
       "      <th></th>\n",
       "      <th>Money</th>\n",
       "      <th>Spending</th>\n",
       "      <th>MoneyForecast</th>\n",
       "      <th>SpendingForecast</th>\n",
       "    </tr>\n",
       "    <tr>\n",
       "      <th>Date</th>\n",
       "      <th></th>\n",
       "      <th></th>\n",
       "      <th></th>\n",
       "      <th></th>\n",
       "    </tr>\n",
       "  </thead>\n",
       "  <tbody>\n",
       "    <tr>\n",
       "      <td>2015-01-01</td>\n",
       "      <td>11733.2</td>\n",
       "      <td>12046.0</td>\n",
       "      <td>11657.034156</td>\n",
       "      <td>12096.428874</td>\n",
       "    </tr>\n",
       "    <tr>\n",
       "      <td>2015-02-01</td>\n",
       "      <td>11852.4</td>\n",
       "      <td>12082.4</td>\n",
       "      <td>11655.588066</td>\n",
       "      <td>12090.897557</td>\n",
       "    </tr>\n",
       "    <tr>\n",
       "      <td>2015-03-01</td>\n",
       "      <td>11868.8</td>\n",
       "      <td>12158.3</td>\n",
       "      <td>11657.195524</td>\n",
       "      <td>12089.035148</td>\n",
       "    </tr>\n",
       "    <tr>\n",
       "      <td>2015-04-01</td>\n",
       "      <td>11916.1</td>\n",
       "      <td>12193.8</td>\n",
       "      <td>11648.171625</td>\n",
       "      <td>12090.009311</td>\n",
       "    </tr>\n",
       "    <tr>\n",
       "      <td>2015-05-01</td>\n",
       "      <td>11947.6</td>\n",
       "      <td>12268.1</td>\n",
       "      <td>11654.387382</td>\n",
       "      <td>12093.908559</td>\n",
       "    </tr>\n",
       "    <tr>\n",
       "      <td>2015-06-01</td>\n",
       "      <td>11993.1</td>\n",
       "      <td>12308.3</td>\n",
       "      <td>11652.656077</td>\n",
       "      <td>12089.728073</td>\n",
       "    </tr>\n",
       "    <tr>\n",
       "      <td>2015-07-01</td>\n",
       "      <td>12045.3</td>\n",
       "      <td>12355.4</td>\n",
       "      <td>11649.735063</td>\n",
       "      <td>12092.963728</td>\n",
       "    </tr>\n",
       "    <tr>\n",
       "      <td>2015-08-01</td>\n",
       "      <td>12096.8</td>\n",
       "      <td>12394.0</td>\n",
       "      <td>11653.491201</td>\n",
       "      <td>12092.905652</td>\n",
       "    </tr>\n",
       "    <tr>\n",
       "      <td>2015-09-01</td>\n",
       "      <td>12153.8</td>\n",
       "      <td>12392.8</td>\n",
       "      <td>11651.656789</td>\n",
       "      <td>12091.458395</td>\n",
       "    </tr>\n",
       "    <tr>\n",
       "      <td>2015-10-01</td>\n",
       "      <td>12187.7</td>\n",
       "      <td>12416.1</td>\n",
       "      <td>11651.186318</td>\n",
       "      <td>12093.326036</td>\n",
       "    </tr>\n",
       "    <tr>\n",
       "      <td>2015-11-01</td>\n",
       "      <td>12277.4</td>\n",
       "      <td>12450.1</td>\n",
       "      <td>11653.212029</td>\n",
       "      <td>12092.774352</td>\n",
       "    </tr>\n",
       "    <tr>\n",
       "      <td>2015-12-01</td>\n",
       "      <td>12335.9</td>\n",
       "      <td>12469.1</td>\n",
       "      <td>11651.854324</td>\n",
       "      <td>12092.373768</td>\n",
       "    </tr>\n",
       "  </tbody>\n",
       "</table>\n",
       "</div>"
      ],
      "text/plain": [
       "              Money  Spending  MoneyForecast  SpendingForecast\n",
       "Date                                                          \n",
       "2015-01-01  11733.2   12046.0   11657.034156      12096.428874\n",
       "2015-02-01  11852.4   12082.4   11655.588066      12090.897557\n",
       "2015-03-01  11868.8   12158.3   11657.195524      12089.035148\n",
       "2015-04-01  11916.1   12193.8   11648.171625      12090.009311\n",
       "2015-05-01  11947.6   12268.1   11654.387382      12093.908559\n",
       "2015-06-01  11993.1   12308.3   11652.656077      12089.728073\n",
       "2015-07-01  12045.3   12355.4   11649.735063      12092.963728\n",
       "2015-08-01  12096.8   12394.0   11653.491201      12092.905652\n",
       "2015-09-01  12153.8   12392.8   11651.656789      12091.458395\n",
       "2015-10-01  12187.7   12416.1   11651.186318      12093.326036\n",
       "2015-11-01  12277.4   12450.1   11653.212029      12092.774352\n",
       "2015-12-01  12335.9   12469.1   11651.854324      12092.373768"
      ]
     },
     "execution_count": 21,
     "metadata": {},
     "output_type": "execute_result"
    }
   ],
   "source": [
    "pd.concat([df.iloc[-12:],df_forecast[['MoneyForecast','SpendingForecast']]],axis=1)"
   ]
  },
  {
   "cell_type": "markdown",
   "metadata": {},
   "source": [
    "## Plot the results"
   ]
  },
  {
   "cell_type": "code",
   "execution_count": 22,
   "metadata": {},
   "outputs": [
    {
     "data": {
      "image/png": "[encoded data removed]",
      "text/plain": [
       "<Figure size 864x360 with 1 Axes>"
      ]
     },
     "metadata": {
      "needs_background": "light"
     },
     "output_type": "display_data"
    }
   ],
   "source": [
    "df['Money'][-nobs:].plot(figsize=(12,5),legend=True).autoscale(axis='x',tight=True)\n",
    "df_forecast['MoneyForecast'].plot(legend=True);"
   ]
  },
  {
   "cell_type": "code",
   "execution_count": 23,
   "metadata": {},
   "outputs": [
    {
     "data": {
      "image/png": "[encoded data removed]",
      "text/plain": [
       "<Figure size 864x360 with 1 Axes>"
      ]
     },
     "metadata": {
      "needs_background": "light"
     },
     "output_type": "display_data"
    }
   ],
   "source": [
    "df['Spending'][-nobs:].plot(figsize=(12,5),legend=True).autoscale(axis='x',tight=True)\n",
    "df_forecast['SpendingForecast'].plot(legend=True);"
   ]
  },
  {
   "cell_type": "markdown",
   "metadata": {},
   "source": [
    "### Evaluate the model\n",
    "\n",
    "&nbsp;&nbsp;&nbsp;&nbsp;$RMSE = \\sqrt{{\\frac 1 L} \\sum\\limits_{l=1}^L (y_{T+l} - \\hat y_{T+l})^2}$<br><br>\n",
    "where $T$ is the last observation period and $l$ is the lag."
   ]
  },
  {
   "cell_type": "code",
   "execution_count": 24,
   "metadata": {},
   "outputs": [
    {
     "name": "stdout",
     "output_type": "stream",
     "text": [
      "Money VAR(5) RMSE: 419.672\n"
     ]
    }
   ],
   "source": [
    "RMSE1 = rmse(df['Money'][-nobs:], df_forecast['MoneyForecast'])\n",
    "print(f'Money VAR(5) RMSE: {RMSE1:.3f}')"
   ]
  },
  {
   "cell_type": "code",
   "execution_count": 25,
   "metadata": {},
   "outputs": [
    {
     "name": "stdout",
     "output_type": "stream",
     "text": [
      "Spending VAR(5) RMSE: 245.021\n"
     ]
    }
   ],
   "source": [
    "RMSE2 = rmse(df['Spending'][-nobs:], df_forecast['SpendingForecast'])\n",
    "print(f'Spending VAR(5) RMSE: {RMSE2:.3f}')"
   ]
  },
  {
   "cell_type": "markdown",
   "metadata": {},
   "source": [
    "Clearly these results are less accurate than our earlier VAR(5) model. Still, this tells us something!\n",
    "## Let's compare these results to individual ARMA(1,2) models"
   ]
  },
  {
   "cell_type": "code",
   "execution_count": 26,
   "metadata": {},
   "outputs": [],
   "source": [
    "from statsmodels.tsa.arima_model import ARMA,ARMAResults"
   ]
  },
  {
   "cell_type": "markdown",
   "metadata": {},
   "source": [
    "### Money"
   ]
  },
  {
   "cell_type": "code",
   "execution_count": 27,
   "metadata": {},
   "outputs": [
    {
     "data": {
      "text/html": [
       "<table class=\"simpletable\">\n",
       "<caption>ARMA Model Results</caption>\n",
       "<tr>\n",
       "  <th>Dep. Variable:</th>       <td>Money</td>      <th>  No. Observations:  </th>    <td>238</td>   \n",
       "</tr>\n",
       "<tr>\n",
       "  <th>Model:</th>            <td>ARMA(1, 2)</td>    <th>  Log Likelihood     </th> <td>-1117.710</td>\n",
       "</tr>\n",
       "<tr>\n",
       "  <th>Method:</th>             <td>css-mle</td>     <th>  S.D. of innovations</th>  <td>26.214</td>  \n",
       "</tr>\n",
       "<tr>\n",
       "  <th>Date:</th>          <td>Mon, 13 Apr 2020</td> <th>  AIC                </th> <td>2245.421</td> \n",
       "</tr>\n",
       "<tr>\n",
       "  <th>Time:</th>              <td>13:36:15</td>     <th>  BIC                </th> <td>2262.782</td> \n",
       "</tr>\n",
       "<tr>\n",
       "  <th>Sample:</th>           <td>03-01-1995</td>    <th>  HQIC               </th> <td>2252.418</td> \n",
       "</tr>\n",
       "<tr>\n",
       "  <th></th>                 <td>- 12-01-2014</td>   <th>                     </th>     <td> </td>    \n",
       "</tr>\n",
       "</table>\n",
       "<table class=\"simpletable\">\n",
       "<tr>\n",
       "       <td></td>          <th>coef</th>     <th>std err</th>      <th>z</th>      <th>P>|z|</th>  <th>[0.025</th>    <th>0.975]</th>  \n",
       "</tr>\n",
       "<tr>\n",
       "  <th>const</th>       <td>    0.1814</td> <td>    0.029</td> <td>    6.302</td> <td> 0.000</td> <td>    0.125</td> <td>    0.238</td>\n",
       "</tr>\n",
       "<tr>\n",
       "  <th>ar.L1.Money</th> <td>   -0.3569</td> <td>    0.293</td> <td>   -1.218</td> <td> 0.223</td> <td>   -0.931</td> <td>    0.217</td>\n",
       "</tr>\n",
       "<tr>\n",
       "  <th>ma.L1.Money</th> <td>   -0.4087</td> <td>    0.260</td> <td>   -1.573</td> <td> 0.116</td> <td>   -0.918</td> <td>    0.101</td>\n",
       "</tr>\n",
       "<tr>\n",
       "  <th>ma.L2.Money</th> <td>   -0.5913</td> <td>    0.259</td> <td>   -2.279</td> <td> 0.023</td> <td>   -1.100</td> <td>   -0.083</td>\n",
       "</tr>\n",
       "</table>\n",
       "<table class=\"simpletable\">\n",
       "<caption>Roots</caption>\n",
       "<tr>\n",
       "    <td></td>   <th>            Real</th>  <th>         Imaginary</th> <th>         Modulus</th>  <th>        Frequency</th>\n",
       "</tr>\n",
       "<tr>\n",
       "  <th>AR.1</th> <td>          -2.8021</td> <td>          +0.0000j</td> <td>           2.8021</td> <td>           0.5000</td>\n",
       "</tr>\n",
       "<tr>\n",
       "  <th>MA.1</th> <td>           1.0000</td> <td>          +0.0000j</td> <td>           1.0000</td> <td>           0.0000</td>\n",
       "</tr>\n",
       "<tr>\n",
       "  <th>MA.2</th> <td>          -1.6913</td> <td>          +0.0000j</td> <td>           1.6913</td> <td>           0.5000</td>\n",
       "</tr>\n",
       "</table>"
      ],
      "text/plain": [
       "<class 'statsmodels.iolib.summary.Summary'>\n",
       "\"\"\"\n",
       "                              ARMA Model Results                              \n",
       "==============================================================================\n",
       "Dep. Variable:                  Money   No. Observations:                  238\n",
       "Model:                     ARMA(1, 2)   Log Likelihood               -1117.710\n",
       "Method:                       css-mle   S.D. of innovations             26.214\n",
       "Date:                Mon, 13 Apr 2020   AIC                           2245.421\n",
       "Time:                        13:36:15   BIC                           2262.782\n",
       "Sample:                    03-01-1995   HQIC                          2252.418\n",
       "                         - 12-01-2014                                         \n",
       "===============================================================================\n",
       "                  coef    std err          z      P>|z|      [0.025      0.975]\n",
       "-------------------------------------------------------------------------------\n",
       "const           0.1814      0.029      6.302      0.000       0.125       0.238\n",
       "ar.L1.Money    -0.3569      0.293     -1.218      0.223      -0.931       0.217\n",
       "ma.L1.Money    -0.4087      0.260     -1.573      0.116      -0.918       0.101\n",
       "ma.L2.Money    -0.5913      0.259     -2.279      0.023      -1.100      -0.083\n",
       "                                    Roots                                    \n",
       "=============================================================================\n",
       "                  Real          Imaginary           Modulus         Frequency\n",
       "-----------------------------------------------------------------------------\n",
       "AR.1           -2.8021           +0.0000j            2.8021            0.5000\n",
       "MA.1            1.0000           +0.0000j            1.0000            0.0000\n",
       "MA.2           -1.6913           +0.0000j            1.6913            0.5000\n",
       "-----------------------------------------------------------------------------\n",
       "\"\"\""
      ]
     },
     "execution_count": 27,
     "metadata": {},
     "output_type": "execute_result"
    }
   ],
   "source": [
    "model = ARMA(train['Money'],order=(1,2))\n",
    "results = model.fit()\n",
    "results.summary()"
   ]
  },
  {
   "cell_type": "code",
   "execution_count": 23,
   "metadata": {},
   "outputs": [],
   "source": [
    "start=len(train)\n",
    "end=len(train)+len(test)-1\n",
    "z1 = results.predict(start=start, end=end).rename('Money')\n",
    "z1 = pd.DataFrame(z1)"
   ]
  },
  {
   "cell_type": "code",
   "execution_count": 24,
   "metadata": {},
   "outputs": [
    {
     "data": {
      "text/html": [
       "<div>\n",
       "<style scoped>\n",
       "    .dataframe tbody tr th:only-of-type {\n",
       "        vertical-align: middle;\n",
       "    }\n",
       "\n",
       "    .dataframe tbody tr th {\n",
       "        vertical-align: top;\n",
       "    }\n",
       "\n",
       "    .dataframe thead th {\n",
       "        text-align: right;\n",
       "    }\n",
       "</style>\n",
       "<table border=\"1\" class=\"dataframe\">\n",
       "  <thead>\n",
       "    <tr style=\"text-align: right;\">\n",
       "      <th></th>\n",
       "      <th>Money</th>\n",
       "    </tr>\n",
       "  </thead>\n",
       "  <tbody>\n",
       "    <tr>\n",
       "      <th>2015-01-01</th>\n",
       "      <td>-14.498910</td>\n",
       "    </tr>\n",
       "    <tr>\n",
       "      <th>2015-02-01</th>\n",
       "      <td>-10.947218</td>\n",
       "    </tr>\n",
       "    <tr>\n",
       "      <th>2015-03-01</th>\n",
       "      <td>4.152839</td>\n",
       "    </tr>\n",
       "    <tr>\n",
       "      <th>2015-04-01</th>\n",
       "      <td>-1.235882</td>\n",
       "    </tr>\n",
       "    <tr>\n",
       "      <th>2015-05-01</th>\n",
       "      <td>0.687178</td>\n",
       "    </tr>\n",
       "    <tr>\n",
       "      <th>2015-06-01</th>\n",
       "      <td>0.000900</td>\n",
       "    </tr>\n",
       "    <tr>\n",
       "      <th>2015-07-01</th>\n",
       "      <td>0.245811</td>\n",
       "    </tr>\n",
       "    <tr>\n",
       "      <th>2015-08-01</th>\n",
       "      <td>0.158410</td>\n",
       "    </tr>\n",
       "    <tr>\n",
       "      <th>2015-09-01</th>\n",
       "      <td>0.189600</td>\n",
       "    </tr>\n",
       "    <tr>\n",
       "      <th>2015-10-01</th>\n",
       "      <td>0.178470</td>\n",
       "    </tr>\n",
       "    <tr>\n",
       "      <th>2015-11-01</th>\n",
       "      <td>0.182442</td>\n",
       "    </tr>\n",
       "    <tr>\n",
       "      <th>2015-12-01</th>\n",
       "      <td>0.181024</td>\n",
       "    </tr>\n",
       "  </tbody>\n",
       "</table>\n",
       "</div>"
      ],
      "text/plain": [
       "                Money\n",
       "2015-01-01 -14.498910\n",
       "2015-02-01 -10.947218\n",
       "2015-03-01   4.152839\n",
       "2015-04-01  -1.235882\n",
       "2015-05-01   0.687178\n",
       "2015-06-01   0.000900\n",
       "2015-07-01   0.245811\n",
       "2015-08-01   0.158410\n",
       "2015-09-01   0.189600\n",
       "2015-10-01   0.178470\n",
       "2015-11-01   0.182442\n",
       "2015-12-01   0.181024"
      ]
     },
     "execution_count": 24,
     "metadata": {},
     "output_type": "execute_result"
    }
   ],
   "source": [
    "z1"
   ]
  },
  {
   "cell_type": "markdown",
   "metadata": {},
   "source": [
    "### Invert the Transformation, Evaluate the Forecast"
   ]
  },
  {
   "cell_type": "code",
   "execution_count": 25,
   "metadata": {},
   "outputs": [],
   "source": [
    "# Add the most recent first difference from the training set to the forecast cumulative sum\n",
    "z1['Money1d'] = (df['Money'].iloc[-nobs-1]-df['Money'].iloc[-nobs-2]) + z1['Money'].cumsum()\n",
    "\n",
    "# Now build the forecast values from the first difference set\n",
    "z1['MoneyForecast'] = df['Money'].iloc[-nobs-1] + z1['Money1d'].cumsum()"
   ]
  },
  {
   "cell_type": "code",
   "execution_count": 26,
   "metadata": {},
   "outputs": [
    {
     "data": {
      "text/html": [
       "<div>\n",
       "<style scoped>\n",
       "    .dataframe tbody tr th:only-of-type {\n",
       "        vertical-align: middle;\n",
       "    }\n",
       "\n",
       "    .dataframe tbody tr th {\n",
       "        vertical-align: top;\n",
       "    }\n",
       "\n",
       "    .dataframe thead th {\n",
       "        text-align: right;\n",
       "    }\n",
       "</style>\n",
       "<table border=\"1\" class=\"dataframe\">\n",
       "  <thead>\n",
       "    <tr style=\"text-align: right;\">\n",
       "      <th></th>\n",
       "      <th>Money</th>\n",
       "      <th>Money1d</th>\n",
       "      <th>MoneyForecast</th>\n",
       "    </tr>\n",
       "  </thead>\n",
       "  <tbody>\n",
       "    <tr>\n",
       "      <th>2015-01-01</th>\n",
       "      <td>-14.498910</td>\n",
       "      <td>64.101090</td>\n",
       "      <td>11734.201090</td>\n",
       "    </tr>\n",
       "    <tr>\n",
       "      <th>2015-02-01</th>\n",
       "      <td>-10.947218</td>\n",
       "      <td>53.153872</td>\n",
       "      <td>11787.354962</td>\n",
       "    </tr>\n",
       "    <tr>\n",
       "      <th>2015-03-01</th>\n",
       "      <td>4.152839</td>\n",
       "      <td>57.306711</td>\n",
       "      <td>11844.661673</td>\n",
       "    </tr>\n",
       "    <tr>\n",
       "      <th>2015-04-01</th>\n",
       "      <td>-1.235882</td>\n",
       "      <td>56.070829</td>\n",
       "      <td>11900.732502</td>\n",
       "    </tr>\n",
       "    <tr>\n",
       "      <th>2015-05-01</th>\n",
       "      <td>0.687178</td>\n",
       "      <td>56.758007</td>\n",
       "      <td>11957.490509</td>\n",
       "    </tr>\n",
       "    <tr>\n",
       "      <th>2015-06-01</th>\n",
       "      <td>0.000900</td>\n",
       "      <td>56.758908</td>\n",
       "      <td>12014.249417</td>\n",
       "    </tr>\n",
       "    <tr>\n",
       "      <th>2015-07-01</th>\n",
       "      <td>0.245811</td>\n",
       "      <td>57.004718</td>\n",
       "      <td>12071.254135</td>\n",
       "    </tr>\n",
       "    <tr>\n",
       "      <th>2015-08-01</th>\n",
       "      <td>0.158410</td>\n",
       "      <td>57.163128</td>\n",
       "      <td>12128.417263</td>\n",
       "    </tr>\n",
       "    <tr>\n",
       "      <th>2015-09-01</th>\n",
       "      <td>0.189600</td>\n",
       "      <td>57.352729</td>\n",
       "      <td>12185.769991</td>\n",
       "    </tr>\n",
       "    <tr>\n",
       "      <th>2015-10-01</th>\n",
       "      <td>0.178470</td>\n",
       "      <td>57.531198</td>\n",
       "      <td>12243.301190</td>\n",
       "    </tr>\n",
       "    <tr>\n",
       "      <th>2015-11-01</th>\n",
       "      <td>0.182442</td>\n",
       "      <td>57.713640</td>\n",
       "      <td>12301.014830</td>\n",
       "    </tr>\n",
       "    <tr>\n",
       "      <th>2015-12-01</th>\n",
       "      <td>0.181024</td>\n",
       "      <td>57.894664</td>\n",
       "      <td>12358.909494</td>\n",
       "    </tr>\n",
       "  </tbody>\n",
       "</table>\n",
       "</div>"
      ],
      "text/plain": [
       "                Money    Money1d  MoneyForecast\n",
       "2015-01-01 -14.498910  64.101090   11734.201090\n",
       "2015-02-01 -10.947218  53.153872   11787.354962\n",
       "2015-03-01   4.152839  57.306711   11844.661673\n",
       "2015-04-01  -1.235882  56.070829   11900.732502\n",
       "2015-05-01   0.687178  56.758007   11957.490509\n",
       "2015-06-01   0.000900  56.758908   12014.249417\n",
       "2015-07-01   0.245811  57.004718   12071.254135\n",
       "2015-08-01   0.158410  57.163128   12128.417263\n",
       "2015-09-01   0.189600  57.352729   12185.769991\n",
       "2015-10-01   0.178470  57.531198   12243.301190\n",
       "2015-11-01   0.182442  57.713640   12301.014830\n",
       "2015-12-01   0.181024  57.894664   12358.909494"
      ]
     },
     "execution_count": 26,
     "metadata": {},
     "output_type": "execute_result"
    }
   ],
   "source": [
    "z1"
   ]
  },
  {
   "cell_type": "code",
   "execution_count": 27,
   "metadata": {},
   "outputs": [
    {
     "name": "stdout",
     "output_type": "stream",
     "text": [
      "Money VARMA(1,2) RMSE: 422.942\n",
      "Money  ARMA(1,2) RMSE: 32.236\n"
     ]
    }
   ],
   "source": [
    "RMSE3 = rmse(df['Money'][-nobs:], z1['MoneyForecast'])\n",
    "\n",
    "print(f'Money VARMA(1,2) RMSE: {RMSE1:.3f}')\n",
    "print(f'Money  ARMA(1,2) RMSE: {RMSE3:.3f}')"
   ]
  },
  {
   "cell_type": "markdown",
   "metadata": {},
   "source": [
    "## Personal Spending"
   ]
  },
  {
   "cell_type": "code",
   "execution_count": 28,
   "metadata": {},
   "outputs": [
    {
     "data": {
      "text/html": [
       "<table class=\"simpletable\">\n",
       "<caption>ARMA Model Results</caption>\n",
       "<tr>\n",
       "  <th>Dep. Variable:</th>     <td>Spending</td>     <th>  No. Observations:  </th>    <td>238</td>   \n",
       "</tr>\n",
       "<tr>\n",
       "  <th>Model:</th>            <td>ARMA(1, 2)</td>    <th>  Log Likelihood     </th> <td>-1182.411</td>\n",
       "</tr>\n",
       "<tr>\n",
       "  <th>Method:</th>             <td>css-mle</td>     <th>  S.D. of innovations</th>  <td>34.661</td>  \n",
       "</tr>\n",
       "<tr>\n",
       "  <th>Date:</th>          <td>Wed, 03 Apr 2019</td> <th>  AIC                </th> <td>2374.823</td> \n",
       "</tr>\n",
       "<tr>\n",
       "  <th>Time:</th>              <td>08:26:04</td>     <th>  BIC                </th> <td>2392.184</td> \n",
       "</tr>\n",
       "<tr>\n",
       "  <th>Sample:</th>           <td>03-01-1995</td>    <th>  HQIC               </th> <td>2381.820</td> \n",
       "</tr>\n",
       "<tr>\n",
       "  <th></th>                 <td>- 12-01-2014</td>   <th>                     </th>     <td> </td>    \n",
       "</tr>\n",
       "</table>\n",
       "<table class=\"simpletable\">\n",
       "<tr>\n",
       "         <td></td>           <th>coef</th>     <th>std err</th>      <th>z</th>      <th>P>|z|</th>  <th>[0.025</th>    <th>0.975]</th>  \n",
       "</tr>\n",
       "<tr>\n",
       "  <th>const</th>          <td>    0.0856</td> <td>    0.245</td> <td>    0.350</td> <td> 0.727</td> <td>   -0.394</td> <td>    0.565</td>\n",
       "</tr>\n",
       "<tr>\n",
       "  <th>ar.L1.Spending</th> <td>   -0.3403</td> <td>    0.511</td> <td>   -0.666</td> <td> 0.506</td> <td>   -1.342</td> <td>    0.661</td>\n",
       "</tr>\n",
       "<tr>\n",
       "  <th>ma.L1.Spending</th> <td>   -0.6451</td> <td>    0.521</td> <td>   -1.237</td> <td> 0.217</td> <td>   -1.667</td> <td>    0.377</td>\n",
       "</tr>\n",
       "<tr>\n",
       "  <th>ma.L2.Spending</th> <td>   -0.2139</td> <td>    0.485</td> <td>   -0.441</td> <td> 0.660</td> <td>   -1.165</td> <td>    0.737</td>\n",
       "</tr>\n",
       "</table>\n",
       "<table class=\"simpletable\">\n",
       "<caption>Roots</caption>\n",
       "<tr>\n",
       "    <td></td>   <th>            Real</th>  <th>         Imaginary</th> <th>         Modulus</th>  <th>        Frequency</th>\n",
       "</tr>\n",
       "<tr>\n",
       "  <th>AR.1</th> <td>          -2.9388</td> <td>          +0.0000j</td> <td>           2.9388</td> <td>           0.5000</td>\n",
       "</tr>\n",
       "<tr>\n",
       "  <th>MA.1</th> <td>           1.1281</td> <td>          +0.0000j</td> <td>           1.1281</td> <td>           0.0000</td>\n",
       "</tr>\n",
       "<tr>\n",
       "  <th>MA.2</th> <td>          -4.1438</td> <td>          +0.0000j</td> <td>           4.1438</td> <td>           0.5000</td>\n",
       "</tr>\n",
       "</table>"
      ],
      "text/plain": [
       "<class 'statsmodels.iolib.summary.Summary'>\n",
       "\"\"\"\n",
       "                              ARMA Model Results                              \n",
       "==============================================================================\n",
       "Dep. Variable:               Spending   No. Observations:                  238\n",
       "Model:                     ARMA(1, 2)   Log Likelihood               -1182.411\n",
       "Method:                       css-mle   S.D. of innovations             34.661\n",
       "Date:                Wed, 03 Apr 2019   AIC                           2374.823\n",
       "Time:                        08:26:04   BIC                           2392.184\n",
       "Sample:                    03-01-1995   HQIC                          2381.820\n",
       "                         - 12-01-2014                                         \n",
       "==================================================================================\n",
       "                     coef    std err          z      P>|z|      [0.025      0.975]\n",
       "----------------------------------------------------------------------------------\n",
       "const              0.0856      0.245      0.350      0.727      -0.394       0.565\n",
       "ar.L1.Spending    -0.3403      0.511     -0.666      0.506      -1.342       0.661\n",
       "ma.L1.Spending    -0.6451      0.521     -1.237      0.217      -1.667       0.377\n",
       "ma.L2.Spending    -0.2139      0.485     -0.441      0.660      -1.165       0.737\n",
       "                                    Roots                                    \n",
       "=============================================================================\n",
       "                  Real          Imaginary           Modulus         Frequency\n",
       "-----------------------------------------------------------------------------\n",
       "AR.1           -2.9388           +0.0000j            2.9388            0.5000\n",
       "MA.1            1.1281           +0.0000j            1.1281            0.0000\n",
       "MA.2           -4.1438           +0.0000j            4.1438            0.5000\n",
       "-----------------------------------------------------------------------------\n",
       "\"\"\""
      ]
     },
     "execution_count": 28,
     "metadata": {},
     "output_type": "execute_result"
    }
   ],
   "source": [
    "model = ARMA(train['Spending'],order=(1,2))\n",
    "results = model.fit()\n",
    "results.summary()"
   ]
  },
  {
   "cell_type": "code",
   "execution_count": 29,
   "metadata": {},
   "outputs": [
    {
     "data": {
      "text/html": [
       "<div>\n",
       "<style scoped>\n",
       "    .dataframe tbody tr th:only-of-type {\n",
       "        vertical-align: middle;\n",
       "    }\n",
       "\n",
       "    .dataframe tbody tr th {\n",
       "        vertical-align: top;\n",
       "    }\n",
       "\n",
       "    .dataframe thead th {\n",
       "        text-align: right;\n",
       "    }\n",
       "</style>\n",
       "<table border=\"1\" class=\"dataframe\">\n",
       "  <thead>\n",
       "    <tr style=\"text-align: right;\">\n",
       "      <th></th>\n",
       "      <th>Spending</th>\n",
       "    </tr>\n",
       "  </thead>\n",
       "  <tbody>\n",
       "    <tr>\n",
       "      <th>2015-01-01</th>\n",
       "      <td>33.555831</td>\n",
       "    </tr>\n",
       "    <tr>\n",
       "      <th>2015-02-01</th>\n",
       "      <td>-3.338262</td>\n",
       "    </tr>\n",
       "    <tr>\n",
       "      <th>2015-03-01</th>\n",
       "      <td>1.250702</td>\n",
       "    </tr>\n",
       "    <tr>\n",
       "      <th>2015-04-01</th>\n",
       "      <td>-0.310832</td>\n",
       "    </tr>\n",
       "    <tr>\n",
       "      <th>2015-05-01</th>\n",
       "      <td>0.220527</td>\n",
       "    </tr>\n",
       "    <tr>\n",
       "      <th>2015-06-01</th>\n",
       "      <td>0.039716</td>\n",
       "    </tr>\n",
       "    <tr>\n",
       "      <th>2015-07-01</th>\n",
       "      <td>0.101243</td>\n",
       "    </tr>\n",
       "    <tr>\n",
       "      <th>2015-08-01</th>\n",
       "      <td>0.080306</td>\n",
       "    </tr>\n",
       "    <tr>\n",
       "      <th>2015-09-01</th>\n",
       "      <td>0.087431</td>\n",
       "    </tr>\n",
       "    <tr>\n",
       "      <th>2015-10-01</th>\n",
       "      <td>0.085006</td>\n",
       "    </tr>\n",
       "    <tr>\n",
       "      <th>2015-11-01</th>\n",
       "      <td>0.085831</td>\n",
       "    </tr>\n",
       "    <tr>\n",
       "      <th>2015-12-01</th>\n",
       "      <td>0.085551</td>\n",
       "    </tr>\n",
       "  </tbody>\n",
       "</table>\n",
       "</div>"
      ],
      "text/plain": [
       "             Spending\n",
       "2015-01-01  33.555831\n",
       "2015-02-01  -3.338262\n",
       "2015-03-01   1.250702\n",
       "2015-04-01  -0.310832\n",
       "2015-05-01   0.220527\n",
       "2015-06-01   0.039716\n",
       "2015-07-01   0.101243\n",
       "2015-08-01   0.080306\n",
       "2015-09-01   0.087431\n",
       "2015-10-01   0.085006\n",
       "2015-11-01   0.085831\n",
       "2015-12-01   0.085551"
      ]
     },
     "execution_count": 29,
     "metadata": {},
     "output_type": "execute_result"
    }
   ],
   "source": [
    "start=len(train)\n",
    "end=len(train)+len(test)-1\n",
    "z2 = results.predict(start=start, end=end).rename('Spending')\n",
    "z2 = pd.DataFrame(z2)\n",
    "z2"
   ]
  },
  {
   "cell_type": "markdown",
   "metadata": {},
   "source": [
    "### Invert the Transformation, Evaluate the Forecast"
   ]
  },
  {
   "cell_type": "code",
   "execution_count": 30,
   "metadata": {},
   "outputs": [],
   "source": [
    "# Add the most recent first difference from the training set to the forecast cumulative sum\n",
    "z2['Spending1d'] = (df['Spending'].iloc[-nobs-1]-df['Spending'].iloc[-nobs-2]) + z2['Spending'].cumsum()\n",
    "\n",
    "# Now build the forecast values from the first difference set\n",
    "z2['SpendingForecast'] = df['Spending'].iloc[-nobs-1] + z2['Spending1d'].cumsum()"
   ]
  },
  {
   "cell_type": "code",
   "execution_count": 31,
   "metadata": {},
   "outputs": [
    {
     "data": {
      "text/html": [
       "<div>\n",
       "<style scoped>\n",
       "    .dataframe tbody tr th:only-of-type {\n",
       "        vertical-align: middle;\n",
       "    }\n",
       "\n",
       "    .dataframe tbody tr th {\n",
       "        vertical-align: top;\n",
       "    }\n",
       "\n",
       "    .dataframe thead th {\n",
       "        text-align: right;\n",
       "    }\n",
       "</style>\n",
       "<table border=\"1\" class=\"dataframe\">\n",
       "  <thead>\n",
       "    <tr style=\"text-align: right;\">\n",
       "      <th></th>\n",
       "      <th>Spending</th>\n",
       "      <th>Spending1d</th>\n",
       "      <th>SpendingForecast</th>\n",
       "    </tr>\n",
       "  </thead>\n",
       "  <tbody>\n",
       "    <tr>\n",
       "      <th>2015-01-01</th>\n",
       "      <td>33.555831</td>\n",
       "      <td>44.155831</td>\n",
       "      <td>12106.155831</td>\n",
       "    </tr>\n",
       "    <tr>\n",
       "      <th>2015-02-01</th>\n",
       "      <td>-3.338262</td>\n",
       "      <td>40.817569</td>\n",
       "      <td>12146.973400</td>\n",
       "    </tr>\n",
       "    <tr>\n",
       "      <th>2015-03-01</th>\n",
       "      <td>1.250702</td>\n",
       "      <td>42.068270</td>\n",
       "      <td>12189.041670</td>\n",
       "    </tr>\n",
       "    <tr>\n",
       "      <th>2015-04-01</th>\n",
       "      <td>-0.310832</td>\n",
       "      <td>41.757439</td>\n",
       "      <td>12230.799108</td>\n",
       "    </tr>\n",
       "    <tr>\n",
       "      <th>2015-05-01</th>\n",
       "      <td>0.220527</td>\n",
       "      <td>41.977966</td>\n",
       "      <td>12272.777074</td>\n",
       "    </tr>\n",
       "    <tr>\n",
       "      <th>2015-06-01</th>\n",
       "      <td>0.039716</td>\n",
       "      <td>42.017682</td>\n",
       "      <td>12314.794756</td>\n",
       "    </tr>\n",
       "    <tr>\n",
       "      <th>2015-07-01</th>\n",
       "      <td>0.101243</td>\n",
       "      <td>42.118925</td>\n",
       "      <td>12356.913681</td>\n",
       "    </tr>\n",
       "    <tr>\n",
       "      <th>2015-08-01</th>\n",
       "      <td>0.080306</td>\n",
       "      <td>42.199231</td>\n",
       "      <td>12399.112912</td>\n",
       "    </tr>\n",
       "    <tr>\n",
       "      <th>2015-09-01</th>\n",
       "      <td>0.087431</td>\n",
       "      <td>42.286662</td>\n",
       "      <td>12441.399574</td>\n",
       "    </tr>\n",
       "    <tr>\n",
       "      <th>2015-10-01</th>\n",
       "      <td>0.085006</td>\n",
       "      <td>42.371668</td>\n",
       "      <td>12483.771242</td>\n",
       "    </tr>\n",
       "    <tr>\n",
       "      <th>2015-11-01</th>\n",
       "      <td>0.085831</td>\n",
       "      <td>42.457500</td>\n",
       "      <td>12526.228742</td>\n",
       "    </tr>\n",
       "    <tr>\n",
       "      <th>2015-12-01</th>\n",
       "      <td>0.085551</td>\n",
       "      <td>42.543050</td>\n",
       "      <td>12568.771792</td>\n",
       "    </tr>\n",
       "  </tbody>\n",
       "</table>\n",
       "</div>"
      ],
      "text/plain": [
       "             Spending  Spending1d  SpendingForecast\n",
       "2015-01-01  33.555831   44.155831      12106.155831\n",
       "2015-02-01  -3.338262   40.817569      12146.973400\n",
       "2015-03-01   1.250702   42.068270      12189.041670\n",
       "2015-04-01  -0.310832   41.757439      12230.799108\n",
       "2015-05-01   0.220527   41.977966      12272.777074\n",
       "2015-06-01   0.039716   42.017682      12314.794756\n",
       "2015-07-01   0.101243   42.118925      12356.913681\n",
       "2015-08-01   0.080306   42.199231      12399.112912\n",
       "2015-09-01   0.087431   42.286662      12441.399574\n",
       "2015-10-01   0.085006   42.371668      12483.771242\n",
       "2015-11-01   0.085831   42.457500      12526.228742\n",
       "2015-12-01   0.085551   42.543050      12568.771792"
      ]
     },
     "execution_count": 31,
     "metadata": {},
     "output_type": "execute_result"
    }
   ],
   "source": [
    "z2"
   ]
  },
  {
   "cell_type": "code",
   "execution_count": 32,
   "metadata": {},
   "outputs": [
    {
     "name": "stdout",
     "output_type": "stream",
     "text": [
      "Spending VARMA(1,2) RMSE: 243.777\n",
      "Spending  ARMA(1,2) RMSE: 52.334\n"
     ]
    }
   ],
   "source": [
    "RMSE4 = rmse(df['Spending'][-nobs:], z2['SpendingForecast'])\n",
    "\n",
    "print(f'Spending VARMA(1,2) RMSE: {RMSE2:.3f}')\n",
    "print(f'Spending  ARMA(1,2) RMSE: {RMSE4:.3f}')"
   ]
  },
  {
   "cell_type": "markdown",
   "metadata": {},
   "source": [
    "<strong>CONCLUSION:</strong> It looks like the VARMA(1,2) model did a relatively poor job compared to simpler alternatives. This tells us that there is little or no interdepence between Money Stock and Personal Consumption Expenditures, at least for the timespan we investigated. This is helpful! By fitting a model and getting poor results we know more about the data than we did before."
   ]
  }
 ],
 "metadata": {
  "kernelspec": {
   "display_name": "Python 3",
   "language": "python",
   "name": "python3"
  },
  "language_info": {
   "codemirror_mode": {
    "name": "ipython",
    "version": 3
   },
   "file_extension": ".py",
   "mimetype": "text/x-python",
   "name": "python",
   "nbconvert_exporter": "python",
   "pygments_lexer": "ipython3",
   "version": "3.7.4"
  }
 },
 "nbformat": 4,
 "nbformat_minor": 2
}
